{
 "cells": [
  {
   "cell_type": "code",
   "execution_count": 1,
   "id": "4341e0e6",
   "metadata": {},
   "outputs": [
    {
     "name": "stdout",
     "output_type": "stream",
     "text": [
      "24/03/31 06:41:13 WARN SparkSession: Using an existing Spark session; only runtime SQL configurations will take effect.\n"
     ]
    }
   ],
   "source": [
    "import pyspark\n",
    "from pyspark.sql import SparkSession\n",
    "\n",
    "spark = SparkSession.builder \\\n",
    "    .master(\"local[*]\") \\\n",
    "    .appName('test') \\\n",
    "    .getOrCreate()"
   ]
  },
  {
   "cell_type": "code",
   "execution_count": 4,
   "id": "cd304aec",
   "metadata": {},
   "outputs": [
    {
     "name": "stderr",
     "output_type": "stream",
     "text": [
      "                                                                                \r"
     ]
    }
   ],
   "source": [
    "df_green = spark.read.parquet('code/data/pq/green/*/*')"
   ]
  },
  {
   "cell_type": "code",
   "execution_count": 6,
   "id": "243991f3",
   "metadata": {},
   "outputs": [],
   "source": [
    "# df_green.registerTempTable('green')\n",
    "df_green.createOrReplaceTempView('green')"
   ]
  },
  {
   "cell_type": "code",
   "execution_count": 9,
   "id": "e43764a7",
   "metadata": {},
   "outputs": [
    {
     "name": "stderr",
     "output_type": "stream",
     "text": [
      "[Stage 1:============================================>              (3 + 1) / 4]\r"
     ]
    },
    {
     "name": "stdout",
     "output_type": "stream",
     "text": [
      "+-------------------+----+------------------+--------------+\n",
      "|               hour|zone|            amount|number_records|\n",
      "+-------------------+----+------------------+--------------+\n",
      "|2020-01-28 19:00:00| 134|193.61000000000007|            17|\n",
      "|2020-01-22 19:00:00|  65| 657.0300000000001|            41|\n",
      "|2020-01-27 08:00:00|  17|             85.56|             4|\n",
      "|2020-01-02 09:00:00|  66|229.39999999999998|            12|\n",
      "|2020-01-02 12:00:00|  89|310.28000000000003|            14|\n",
      "|2020-01-07 12:00:00|  66|             179.5|             9|\n",
      "|2020-01-03 08:00:00| 223|165.90000000000003|             9|\n",
      "|2020-01-17 10:00:00|  41| 638.2699999999999|            49|\n",
      "|2020-01-02 11:00:00|  26|             198.6|             7|\n",
      "|2020-01-12 20:00:00| 247|36.900000000000006|             3|\n",
      "|2020-01-12 15:00:00|  10|             75.92|             1|\n",
      "|2020-01-24 04:00:00| 129|148.89000000000001|            13|\n",
      "|2020-01-04 20:00:00|  25| 369.5700000000001|            23|\n",
      "|2020-01-22 10:00:00|  74|1179.0599999999988|            83|\n",
      "|2020-01-13 18:00:00|  92|207.02000000000004|            11|\n",
      "|2020-01-19 11:00:00| 218|            181.16|             5|\n",
      "|2020-01-26 12:00:00|  35|257.03000000000003|             8|\n",
      "|2020-01-30 06:00:00|  75|            282.63|            19|\n",
      "|2020-01-04 22:00:00|  83|            298.16|            15|\n",
      "|2020-01-06 21:00:00| 129|288.02000000000004|            14|\n",
      "+-------------------+----+------------------+--------------+\n",
      "only showing top 20 rows\n",
      "\n"
     ]
    },
    {
     "name": "stderr",
     "output_type": "stream",
     "text": [
      "                                                                                \r"
     ]
    }
   ],
   "source": [
    "df_green_revenue = spark.sql(\"\"\"\n",
    "SELECT \n",
    "    date_trunc('hour', lpep_pickup_datetime) AS hour, \n",
    "    PULocationID AS zone,\n",
    "\n",
    "    SUM(total_amount) AS amount,\n",
    "    COUNT(1) AS number_records\n",
    "FROM\n",
    "    green\n",
    "WHERE\n",
    "    lpep_pickup_datetime >= '2020-01-01 00:00:00'\n",
    "GROUP BY\n",
    "    1, 2\n",
    "\"\"\")\n",
    "\n",
    "df_green_revenue.show()"
   ]
  },
  {
   "cell_type": "code",
   "execution_count": 10,
   "id": "3e00310e",
   "metadata": {},
   "outputs": [
    {
     "name": "stderr",
     "output_type": "stream",
     "text": [
      "                                                                                \r"
     ]
    }
   ],
   "source": [
    "df_green_revenue \\\n",
    "    .repartition(20) \\\n",
    "    .write.parquet('data/report/revenue/green', mode='overwrite')"
   ]
  },
  {
   "cell_type": "code",
   "execution_count": 12,
   "id": "07ebb68c",
   "metadata": {},
   "outputs": [],
   "source": [
    "df_yellow = spark.read.parquet('code/data/pq/yellow/*/*')\n",
    "# df_yellow.registerTempTable('yellow')\n",
    "df_yellow.createOrReplaceTempView('yellow')"
   ]
  },
  {
   "cell_type": "code",
   "execution_count": 13,
   "id": "9d5be29d",
   "metadata": {},
   "outputs": [],
   "source": [
    "df_yellow_revenue = spark.sql(\"\"\"\n",
    "SELECT \n",
    "    date_trunc('hour', tpep_pickup_datetime) AS hour, \n",
    "    PULocationID AS zone,\n",
    "\n",
    "    SUM(total_amount) AS amount,\n",
    "    COUNT(1) AS number_records\n",
    "FROM\n",
    "    yellow\n",
    "WHERE\n",
    "    tpep_pickup_datetime >= '2020-01-01 00:00:00'\n",
    "GROUP BY\n",
    "    1, 2\n",
    "\"\"\")"
   ]
  },
  {
   "cell_type": "code",
   "execution_count": 14,
   "id": "8bd9264e",
   "metadata": {},
   "outputs": [
    {
     "name": "stderr",
     "output_type": "stream",
     "text": [
      "                                                                                \r"
     ]
    }
   ],
   "source": [
    "df_yellow_revenue \\\n",
    "    .repartition(20) \\\n",
    "    .write.parquet('data/report/revenue/yellow', mode='overwrite')"
   ]
  },
  {
   "cell_type": "code",
   "execution_count": 15,
   "id": "fd5d74d7",
   "metadata": {},
   "outputs": [],
   "source": [
    "df_green_revenue = spark.read.parquet('data/report/revenue/green')\n",
    "df_yellow_revenue = spark.read.parquet('data/report/revenue/yellow')"
   ]
  },
  {
   "cell_type": "code",
   "execution_count": 16,
   "id": "35015ee6",
   "metadata": {},
   "outputs": [],
   "source": [
    "df_green_revenue_tmp = df_green_revenue \\\n",
    "    .withColumnRenamed('amount', 'green_amount') \\\n",
    "    .withColumnRenamed('number_records', 'green_number_records')\n",
    "\n",
    "df_yellow_revenue_tmp = df_yellow_revenue \\\n",
    "    .withColumnRenamed('amount', 'yellow_amount') \\\n",
    "    .withColumnRenamed('number_records', 'yellow_number_records')"
   ]
  },
  {
   "cell_type": "code",
   "execution_count": 17,
   "id": "ec9f34ea",
   "metadata": {},
   "outputs": [],
   "source": [
    "df_join = df_green_revenue_tmp.join(df_yellow_revenue_tmp, on=['hour', 'zone'], how='outer')"
   ]
  },
  {
   "cell_type": "code",
   "execution_count": 18,
   "id": "e6aaa292",
   "metadata": {},
   "outputs": [
    {
     "name": "stderr",
     "output_type": "stream",
     "text": [
      "[Stage 24:>                                                         (0 + 1) / 1]\r"
     ]
    },
    {
     "name": "stdout",
     "output_type": "stream",
     "text": [
      "+-------------------+----+------------------+--------------------+------------------+---------------------+\n",
      "|               hour|zone|      green_amount|green_number_records|     yellow_amount|yellow_number_records|\n",
      "+-------------------+----+------------------+--------------------+------------------+---------------------+\n",
      "|2020-01-01 00:00:00|   3|              null|                null|              25.0|                    1|\n",
      "|2020-01-01 00:00:00|   4|              null|                null|1004.3000000000002|                   57|\n",
      "|2020-01-01 00:00:00|   7| 769.7299999999996|                  45| 455.1700000000001|                   38|\n",
      "|2020-01-01 00:00:00|  12|              null|                null|             107.0|                    6|\n",
      "|2020-01-01 00:00:00|  37|            175.67|                   6|161.60999999999999|                    7|\n",
      "|2020-01-01 00:00:00|  40|168.97999999999996|                   8|             89.97|                    5|\n",
      "|2020-01-01 00:00:00|  45|              null|                null| 732.4800000000002|                   42|\n",
      "|2020-01-01 00:00:00|  47|              13.3|                   1|               8.3|                    1|\n",
      "|2020-01-01 00:00:00|  51|              17.8|                   2|              31.0|                    1|\n",
      "|2020-01-01 00:00:00|  62|             15.95|                   1|             61.43|                    1|\n",
      "|2020-01-01 00:00:00|  68|              null|                null| 7825.070000000012|                  396|\n",
      "|2020-01-01 00:00:00|  73|              null|                null|              17.3|                    1|\n",
      "|2020-01-01 00:00:00|  74|317.09000000000015|                  24| 586.2100000000002|                   47|\n",
      "|2020-01-01 00:00:00|  77| 75.99000000000001|                   2|            134.24|                    3|\n",
      "|2020-01-01 00:00:00|  80|364.32000000000005|                  13|             371.4|                   20|\n",
      "|2020-01-01 00:00:00|  83|              94.1|                   7|               9.8|                    1|\n",
      "|2020-01-01 00:00:00|  88|              null|                null| 823.8000000000002|                   36|\n",
      "|2020-01-01 00:00:00|  89|              11.3|                   1|             48.16|                    2|\n",
      "|2020-01-01 00:00:00|  94| 64.24000000000001|                   3|              13.3|                    1|\n",
      "|2020-01-01 00:00:00|  95|202.20000000000002|                  15|               6.3|                    1|\n",
      "+-------------------+----+------------------+--------------------+------------------+---------------------+\n",
      "only showing top 20 rows\n",
      "\n"
     ]
    },
    {
     "name": "stderr",
     "output_type": "stream",
     "text": [
      "                                                                                \r"
     ]
    }
   ],
   "source": [
    "df_join.show()"
   ]
  },
  {
   "cell_type": "code",
   "execution_count": 19,
   "id": "10238be7",
   "metadata": {},
   "outputs": [
    {
     "name": "stderr",
     "output_type": "stream",
     "text": [
      "                                                                                \r"
     ]
    }
   ],
   "source": [
    "df_join.write.parquet('data/report/revenue/total', mode='overwrite')"
   ]
  },
  {
   "cell_type": "code",
   "execution_count": 20,
   "id": "c3af7169",
   "metadata": {},
   "outputs": [],
   "source": [
    "df_join = spark.read.parquet('data/report/revenue/total')"
   ]
  },
  {
   "cell_type": "code",
   "execution_count": 56,
   "id": "bc2a6680",
   "metadata": {},
   "outputs": [
    {
     "data": {
      "text/plain": [
       "DataFrame[hour: timestamp, zone: int, green_amount: double, green_number_records: bigint, yellow_amount: double, yellow_number_records: bigint]"
      ]
     },
     "execution_count": 56,
     "metadata": {},
     "output_type": "execute_result"
    }
   ],
   "source": [
    "df_join"
   ]
  },
  {
   "cell_type": "code",
   "execution_count": 22,
   "id": "abb46398",
   "metadata": {},
   "outputs": [],
   "source": [
    "df_zones = spark.read.parquet('code/zones/')"
   ]
  },
  {
   "cell_type": "code",
   "execution_count": 24,
   "id": "b3cf98a5",
   "metadata": {},
   "outputs": [
    {
     "name": "stdout",
     "output_type": "stream",
     "text": [
      "+-------------------+----+------------------+--------------------+------------------+---------------------+----------+---------+--------------------+------------+\n",
      "|               hour|zone|      green_amount|green_number_records|     yellow_amount|yellow_number_records|LocationID|  Borough|                Zone|service_zone|\n",
      "+-------------------+----+------------------+--------------------+------------------+---------------------+----------+---------+--------------------+------------+\n",
      "|2020-01-01 00:00:00|  14|              null|                null|               8.8|                    1|        14| Brooklyn|           Bay Ridge|   Boro Zone|\n",
      "|2020-01-01 00:00:00|  15|              null|                null|             34.09|                    1|        15|   Queens|Bay Terrace/Fort ...|   Boro Zone|\n",
      "|2020-01-01 00:00:00|  17|195.03000000000003|                   9|220.20999999999998|                    8|        17| Brooklyn|             Bedford|   Boro Zone|\n",
      "|2020-01-01 00:00:00|  25| 531.0000000000002|                  26|            324.35|                   16|        25| Brooklyn|         Boerum Hill|   Boro Zone|\n",
      "|2020-01-01 00:00:00|  32| 68.94999999999999|                   2|              18.0|                    1|        32|    Bronx|           Bronxdale|   Boro Zone|\n",
      "|2020-01-01 00:00:00|  43|            107.52|                   6| 6539.510000000012|                  390|        43|Manhattan|        Central Park| Yellow Zone|\n",
      "|2020-01-01 00:00:00|  49|266.76000000000005|                  14|185.64999999999998|                   10|        49| Brooklyn|        Clinton Hill|   Boro Zone|\n",
      "|2020-01-01 00:00:00|  59|              50.9|                   3|              null|                 null|        59|    Bronx|        Crotona Park|   Boro Zone|\n",
      "|2020-01-01 00:00:00|  69|              11.8|                   1|            106.52|                    4|        69|    Bronx|East Concourse/Co...|   Boro Zone|\n",
      "|2020-01-01 00:00:00|  71|              23.8|                   1|              null|                 null|        71| Brooklyn|East Flatbush/Far...|   Boro Zone|\n",
      "|2020-01-01 00:00:00|  72|             67.53|                   2|              null|                 null|        72| Brooklyn|East Flatbush/Rem...|   Boro Zone|\n",
      "|2020-01-01 00:00:00|  75|278.14000000000004|                  26| 958.3500000000004|                   69|        75|Manhattan|   East Harlem South|   Boro Zone|\n",
      "|2020-01-01 00:00:00|  78|             34.46|                   2|              null|                 null|        78|    Bronx|        East Tremont|   Boro Zone|\n",
      "|2020-01-01 00:00:00|  82| 305.1200000000001|                  28|              29.8|                    1|        82|   Queens|            Elmhurst|   Boro Zone|\n",
      "|2020-01-01 00:00:00|  85|             64.76|                   4|            102.56|                    3|        85| Brooklyn|             Erasmus|   Boro Zone|\n",
      "|2020-01-01 00:00:00|  87|              null|                null|2456.6699999999987|                  112|        87|Manhattan|Financial Distric...| Yellow Zone|\n",
      "|2020-01-01 00:00:00|  93|              null|                null|210.28000000000003|                    3|        93|   Queens|Flushing Meadows-...|   Boro Zone|\n",
      "|2020-01-01 00:00:00| 107|              null|                null| 6441.030000000006|                  380|       107|Manhattan|            Gramercy| Yellow Zone|\n",
      "|2020-01-01 00:00:00| 113|              null|                null| 3984.319999999998|                  220|       113|Manhattan|Greenwich Village...| Yellow Zone|\n",
      "|2020-01-01 00:00:00| 116|            328.76|                  18| 561.5100000000001|                   34|       116|Manhattan|    Hamilton Heights|   Boro Zone|\n",
      "+-------------------+----+------------------+--------------------+------------------+---------------------+----------+---------+--------------------+------------+\n",
      "only showing top 20 rows\n",
      "\n"
     ]
    }
   ],
   "source": [
    "df_result = df_join.join(df_zones, df_join.zone == df_zones.LocationID)\n",
    "df_result.show()"
   ]
  },
  {
   "cell_type": "code",
   "execution_count": 25,
   "id": "5e0614ba",
   "metadata": {},
   "outputs": [
    {
     "name": "stderr",
     "output_type": "stream",
     "text": [
      "                                                                                \r"
     ]
    }
   ],
   "source": [
    "df_result.drop('LocationID', 'zone').write.parquet('tmp/revenue-zones')"
   ]
  },
  {
   "cell_type": "code",
   "execution_count": null,
   "id": "9f5ca913",
   "metadata": {},
   "outputs": [],
   "source": []
  }
 ],
 "metadata": {
  "kernelspec": {
   "display_name": "Python 3 (ipykernel)",
   "language": "python",
   "name": "python3"
  }
 },
 "nbformat": 4,
 "nbformat_minor": 5
}
