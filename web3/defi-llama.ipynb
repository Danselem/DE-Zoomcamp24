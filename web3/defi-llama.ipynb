{
 "cells": [
  {
   "cell_type": "code",
   "execution_count": 6,
   "id": "a1500e59-580f-4006-b809-2222f7a06205",
   "metadata": {},
   "outputs": [
    {
     "ename": "ImportError",
     "evalue": "cannot import name 'defillama' from 'defillama' (/workspaces/DE-Zoomcamp24/.venv/lib/python3.11/site-packages/defillama/__init__.py)",
     "output_type": "error",
     "traceback": [
      "\u001b[0;31m---------------------------------------------------------------------------\u001b[0m",
      "\u001b[0;31mImportError\u001b[0m                               Traceback (most recent call last)",
      "Cell \u001b[0;32mIn[6], line 2\u001b[0m\n\u001b[1;32m      1\u001b[0m \u001b[38;5;66;03m# Import library\u001b[39;00m\n\u001b[0;32m----> 2\u001b[0m \u001b[38;5;28;01mfrom\u001b[39;00m \u001b[38;5;21;01mdefillama\u001b[39;00m \u001b[38;5;28;01mimport\u001b[39;00m defillama\n\u001b[1;32m      3\u001b[0m \u001b[38;5;66;03m# Client object to interact with DeFi Llama API\u001b[39;00m\n\u001b[1;32m      4\u001b[0m llama \u001b[38;5;241m=\u001b[39m defillama()\n",
      "\u001b[0;31mImportError\u001b[0m: cannot import name 'defillama' from 'defillama' (/workspaces/DE-Zoomcamp24/.venv/lib/python3.11/site-packages/defillama/__init__.py)"
     ]
    }
   ],
   "source": [
    "# Import library\n",
    "from defillama import defillama\n",
    "# Client object to interact with DeFi Llama API\n",
    "llama = defillama()\n",
    "\n",
    "\n",
    "from prophet import Prophet\n",
    "import pandas as pd\n",
    "import copy\n",
    "import time\n",
    "from datetime import datetime as dt\n",
    "from matplotlib import pyplot as plt\n",
    "%matplotlib inline\n",
    "from bokeh.plotting import figure, show\n",
    "from bokeh.models import Span\n",
    "from bokeh.io import output_notebook\n",
    "from bokeh.models import ColumnDataSource as cds\n",
    "from bokeh.models import HoverTool\n",
    "from bokeh.models import NumeralTickFormatter\n",
    "output_notebook()"
   ]
  },
  {
   "cell_type": "code",
   "execution_count": 5,
   "id": "75684ca2-c9e5-4483-bc59-676926d87aa7",
   "metadata": {},
   "outputs": [
    {
     "name": "stdout",
     "output_type": "stream",
     "text": [
      "Python 3.11.5\n"
     ]
    }
   ],
   "source": [
    "!python --version"
   ]
  },
  {
   "cell_type": "code",
   "execution_count": null,
   "id": "09799d91-4ba3-427b-b336-c993078b11c4",
   "metadata": {},
   "outputs": [],
   "source": []
  }
 ],
 "metadata": {
  "kernelspec": {
   "display_name": "Python 3 (ipykernel)",
   "language": "python",
   "name": "python3"
  },
  "language_info": {
   "codemirror_mode": {
    "name": "ipython",
    "version": 3
   },
   "file_extension": ".py",
   "mimetype": "text/x-python",
   "name": "python",
   "nbconvert_exporter": "python",
   "pygments_lexer": "ipython3",
   "version": "3.11.5"
  }
 },
 "nbformat": 4,
 "nbformat_minor": 5
}
